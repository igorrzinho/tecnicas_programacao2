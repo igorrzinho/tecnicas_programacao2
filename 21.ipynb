{
  "nbformat": 4,
  "nbformat_minor": 0,
  "metadata": {
    "colab": {
      "provenance": [],
      "authorship_tag": "ABX9TyPHMvtJtJCHlYFkJQ0/hp6e",
      "include_colab_link": true
    },
    "kernelspec": {
      "name": "python3",
      "display_name": "Python 3"
    },
    "language_info": {
      "name": "python"
    }
  },
  "cells": [
    {
      "cell_type": "markdown",
      "metadata": {
        "id": "view-in-github",
        "colab_type": "text"
      },
      "source": [
        "<a href=\"https://colab.research.google.com/github/igorrzinho/tecnicas_programacao2/blob/main/21.ipynb\" target=\"_parent\"><img src=\"https://colab.research.google.com/assets/colab-badge.svg\" alt=\"Open In Colab\"/></a>"
      ]
    },
    {
      "cell_type": "code",
      "execution_count": null,
      "metadata": {
        "colab": {
          "base_uri": "https://localhost:8080/"
        },
        "id": "l-Yt0p2WbD8m",
        "outputId": "efbc7f82-25c0-48a8-ffb8-d3e7e9514683"
      },
      "outputs": [
        {
          "output_type": "stream",
          "name": "stdout",
          "text": [
            "Bem-vindo!\n",
            "Jogo black-jack\n",
            "cartas do usuario\n",
            "5 4 K\n",
            "soma das cartas usuario: 19\n",
            "cartas da maquina \n",
            "K K J\n",
            "soma das cartas maquina: 30\n",
            "usuario  ganhou!\n",
            "jogos   :  1\n",
            "empates :  0\n",
            "usuario :  1\n",
            "maquina :  0\n"
          ]
        }
      ],
      "source": [
        "import random\n",
        "cont = 0\n",
        "ac = 0\n",
        "empate = 0\n",
        "usuario = 0\n",
        "maquina = 0\n",
        "cartas = ['A','2','3','4','5','6','7','8','9','10','J','Q','K']\n",
        "def num(n):\n",
        "  n1 = cartas.index(n) + 1\n",
        "  if n1 > 10:\n",
        "    return 10;\n",
        "  return n1;\n",
        "def msg(n):\n",
        "  print(n,\"ganhou!\")\n",
        "print(\"Bem-vindo!\")\n",
        "while True:\n",
        "  cont+=1\n",
        "  print(\"Jogo black-jack\")\n",
        "  u1 = random.choice(cartas);\n",
        "  u2= random.choice(cartas);\n",
        "  u3 = random.choice(cartas);\n",
        "  m1= random.choice(cartas);\n",
        "  m2= random.choice(cartas);\n",
        "  m3= random.choice(cartas);\n",
        "  print(\"cartas do usuario\")\n",
        "  print(u1,u2,u3)\n",
        "  su = num(u1)+num(u2)+num(u3)\n",
        "  print('soma das cartas usuario: {}'.format(su) )\n",
        "  print(\"cartas da maquina \")\n",
        "  print(m1,m2,m3)\n",
        "  sm = num(m1)+num(m3)+num(m3)\n",
        "  print('soma das cartas maquina: {}'.format(sm) )\n",
        "\n",
        "  if su > 21 and sm > 21:\n",
        "    empate+=1\n",
        "    print(\"Empate!\")\n",
        "  elif su > 21:\n",
        "    maquina+=1\n",
        "    msg('maquina ')\n",
        "  elif sm > 21:\n",
        "    usuario+=1\n",
        "    msg('usuario ')\n",
        "  elif sm > su:\n",
        "    maquina +=1\n",
        "    msg('maquina ')\n",
        "  elif su > sm:\n",
        "    usuario +=1\n",
        "    msg('usuario ')\n",
        "\n",
        "  # placar\n",
        "  print('jogos   : ',cont)\n",
        "  print('empates : ',empate)\n",
        "  print('usuario : ',usuario)\n",
        "  print('maquina : ',maquina)\n",
        "  #parte que começa novamente\n",
        "  confirma = input(\"jogar de novo? [S/N]\")\n",
        "  print(\"|------------------------|\")\n",
        "  if confirma == 'n' or confirma == 'N':\n",
        "    print(\"|----------fim-----------|\")\n",
        "    break"
      ]
    },
    {
      "cell_type": "code",
      "source": [],
      "metadata": {
        "id": "7zqJyqJokZ3d"
      },
      "execution_count": null,
      "outputs": []
    }
  ]
}